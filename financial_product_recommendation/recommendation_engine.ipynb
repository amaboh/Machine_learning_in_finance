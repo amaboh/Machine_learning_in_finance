{
 "cells": [
  {
   "cell_type": "code",
   "execution_count": 1,
   "id": "b4eac161",
   "metadata": {},
   "outputs": [],
   "source": [
    "import os\n",
    "iskaggle = os.environ.get('KAGGLE_KERNEL_RUN_TYPE', '')"
   ]
  },
  {
   "cell_type": "code",
   "execution_count": 2,
   "id": "3fa61e32",
   "metadata": {},
   "outputs": [],
   "source": [
    "creds = '{\"username\":\"amaboh\",\"key\":\"91c62f966a299e953c262f1d4cd9a599\"}'"
   ]
  },
  {
   "cell_type": "code",
   "execution_count": 4,
   "id": "25a37219",
   "metadata": {},
   "outputs": [],
   "source": [
    "from pathlib import Path\n",
    "\n",
    "cred_path = Path('~/.kaggle/kaggle.json').expanduser()\n",
    "if not cred_path.exists():\n",
    "    cred_path.parent.mkdir(exists_ok=True)\n",
    "    cred_path.write_text(creds)\n",
    "    cred_path.chmod(0o600)"
   ]
  },
  {
   "cell_type": "code",
   "execution_count": 5,
   "id": "8f3038e7",
   "metadata": {},
   "outputs": [],
   "source": [
    "path = Path('santander-product-recommendation')"
   ]
  },
  {
   "cell_type": "code",
   "execution_count": 5,
   "id": "38f582b1",
   "metadata": {},
   "outputs": [
    {
     "name": "stdout",
     "output_type": "stream",
     "text": [
      "Downloading santander-product-recommendation.zip to /Volumes/AM/Desktop/DS/gitProjects/Machine_learning_in_finance/financial_product_recommendation\n"
     ]
    },
    {
     "name": "stderr",
     "output_type": "stream",
     "text": [
      "100%|███████████████████████████████████████████████████████████████████████████████████████████████████████████████████████████████████████████████████████████████████████████████████████████████████| 228M/228M [03:09<00:00, 1.26MB/s]\n"
     ]
    },
    {
     "name": "stdout",
     "output_type": "stream",
     "text": [
      "\n"
     ]
    }
   ],
   "source": [
    "if not iskaggle and not path.exists():\n",
    "    import zipfile,kaggle\n",
    "    kaggle.api.competition_download_cli(str(path))\n",
    "    zipfile.ZipFile(f'{path}.zip').extractall(path)"
   ]
  },
  {
   "cell_type": "code",
   "execution_count": 6,
   "id": "67d29e5b",
   "metadata": {},
   "outputs": [],
   "source": [
    "import pandas as pd\n",
    "import numpy as np\n",
    "import random \n",
    "from timeit import default_timer as timer"
   ]
  },
  {
   "cell_type": "code",
   "execution_count": 7,
   "id": "61d8aff6",
   "metadata": {},
   "outputs": [],
   "source": [
    "dtype_list = {'ind_cco_fin_ult1': 'uint8', 'ind_deme_fin_ult1': 'uint8',\n",
    "          'ind_aval_fin_ult1': 'uint8', 'ind_valo_fin_ult1': 'uint8',\n",
    "          'ind_reca_fin_ult1': 'uint8', 'ind_ctju_fin_ult1': 'uint8',\n",
    "          'ind_cder_fin_ult1': 'uint8', 'ind_plan_fin_ult1': 'uint8',\n",
    "          'ind_fond_fin_ult1': 'uint8', 'ind_hip_fin_ult1': 'uint8',\n",
    "          'ind_pres_fin_ult1': 'uint8', 'ind_nomina_ult1': 'Int64', \n",
    "          'ind_cno_fin_ult1': 'uint8', 'ind_ctpp_fin_ult1': 'uint8',\n",
    "          'ind_ahor_fin_ult1': 'uint8', 'ind_dela_fin_ult1': 'uint8',\n",
    "          'ind_ecue_fin_ult1': 'uint8', 'ind_nom_pens_ult1': 'Int64',\n",
    "          'ind_recibo_ult1': 'uint8', 'ind_deco_fin_ult1': 'uint8',\n",
    "          'ind_tjcr_fin_ult1': 'uint8', 'ind_ctop_fin_ult1': 'uint8',\n",
    "          'ind_viv_fin_ult1': 'uint8', 'ind_ctma_fin_ult1': 'uint8',\n",
    "         'ncodpers' : 'uint32'}  \n",
    "\n",
    "name_col = ['ncodpers', 'fecha_dato', 'ind_ahor_fin_ult1','ind_aval_fin_ult1','ind_cco_fin_ult1',\n",
    "           'ind_cder_fin_ult1','ind_cno_fin_ult1','ind_ctju_fin_ult1',\n",
    "           'ind_ctma_fin_ult1','ind_ctop_fin_ult1','ind_ctpp_fin_ult1',\n",
    "           'ind_deco_fin_ult1','ind_deme_fin_ult1','ind_dela_fin_ult1',\n",
    "           'ind_ecue_fin_ult1','ind_fond_fin_ult1','ind_hip_fin_ult1',\n",
    "           'ind_plan_fin_ult1','ind_pres_fin_ult1','ind_reca_fin_ult1',\n",
    "           'ind_tjcr_fin_ult1','ind_valo_fin_ult1','ind_viv_fin_ult1',\n",
    "           'ind_nomina_ult1','ind_nom_pens_ult1','ind_recibo_ult1']"
   ]
  },
  {
   "cell_type": "code",
   "execution_count": 8,
   "id": "876c4e15",
   "metadata": {},
   "outputs": [],
   "source": [
    "start = timer()\n",
    "\n",
    "#optimizing memory usage using chunksize \n",
    "reader = pd.read_csv('santander-product-recommendation/train_ver2.csv.zip', chunksize=1e6, \n",
    "                     dtype=dtype_list, usecols=name_col)\n",
    "\n",
    "#concatenate the data from all the chunks into a single dataframe\n",
    "df_train = pd.concat([chunk for chunk in reader])"
   ]
  },
  {
   "cell_type": "code",
   "execution_count": 27,
   "id": "aca900cd",
   "metadata": {},
   "outputs": [
    {
     "data": {
      "text/plain": [
       "(13647309, 26)"
      ]
     },
     "execution_count": 27,
     "metadata": {},
     "output_type": "execute_result"
    }
   ],
   "source": [
    "#exploring data\n",
    "df_train.shape"
   ]
  },
  {
   "cell_type": "code",
   "execution_count": 10,
   "id": "962fb327",
   "metadata": {},
   "outputs": [
    {
     "data": {
      "text/plain": [
       "fecha_dato           object\n",
       "ncodpers             uint32\n",
       "ind_ahor_fin_ult1     uint8\n",
       "ind_aval_fin_ult1     uint8\n",
       "ind_cco_fin_ult1      uint8\n",
       "ind_cder_fin_ult1     uint8\n",
       "ind_cno_fin_ult1      uint8\n",
       "ind_ctju_fin_ult1     uint8\n",
       "ind_ctma_fin_ult1     uint8\n",
       "ind_ctop_fin_ult1     uint8\n",
       "ind_ctpp_fin_ult1     uint8\n",
       "ind_deco_fin_ult1     uint8\n",
       "ind_deme_fin_ult1     uint8\n",
       "ind_dela_fin_ult1     uint8\n",
       "ind_ecue_fin_ult1     uint8\n",
       "ind_fond_fin_ult1     uint8\n",
       "ind_hip_fin_ult1      uint8\n",
       "ind_plan_fin_ult1     uint8\n",
       "ind_pres_fin_ult1     uint8\n",
       "ind_reca_fin_ult1     uint8\n",
       "ind_tjcr_fin_ult1     uint8\n",
       "ind_valo_fin_ult1     uint8\n",
       "ind_viv_fin_ult1      uint8\n",
       "ind_nomina_ult1       Int64\n",
       "ind_nom_pens_ult1     Int64\n",
       "ind_recibo_ult1       uint8\n",
       "dtype: object"
      ]
     },
     "execution_count": 10,
     "metadata": {},
     "output_type": "execute_result"
    }
   ],
   "source": [
    "df_train.dtypes"
   ]
  },
  {
   "cell_type": "code",
   "execution_count": 11,
   "id": "ad101983",
   "metadata": {},
   "outputs": [
    {
     "data": {
      "text/html": [
       "<div>\n",
       "<style scoped>\n",
       "    .dataframe tbody tr th:only-of-type {\n",
       "        vertical-align: middle;\n",
       "    }\n",
       "\n",
       "    .dataframe tbody tr th {\n",
       "        vertical-align: top;\n",
       "    }\n",
       "\n",
       "    .dataframe thead th {\n",
       "        text-align: right;\n",
       "    }\n",
       "</style>\n",
       "<table border=\"1\" class=\"dataframe\">\n",
       "  <thead>\n",
       "    <tr style=\"text-align: right;\">\n",
       "      <th></th>\n",
       "      <th>fecha_dato</th>\n",
       "      <th>ncodpers</th>\n",
       "      <th>ind_ahor_fin_ult1</th>\n",
       "      <th>ind_aval_fin_ult1</th>\n",
       "      <th>ind_cco_fin_ult1</th>\n",
       "      <th>ind_cder_fin_ult1</th>\n",
       "      <th>ind_cno_fin_ult1</th>\n",
       "      <th>ind_ctju_fin_ult1</th>\n",
       "      <th>ind_ctma_fin_ult1</th>\n",
       "      <th>ind_ctop_fin_ult1</th>\n",
       "      <th>...</th>\n",
       "      <th>ind_hip_fin_ult1</th>\n",
       "      <th>ind_plan_fin_ult1</th>\n",
       "      <th>ind_pres_fin_ult1</th>\n",
       "      <th>ind_reca_fin_ult1</th>\n",
       "      <th>ind_tjcr_fin_ult1</th>\n",
       "      <th>ind_valo_fin_ult1</th>\n",
       "      <th>ind_viv_fin_ult1</th>\n",
       "      <th>ind_nomina_ult1</th>\n",
       "      <th>ind_nom_pens_ult1</th>\n",
       "      <th>ind_recibo_ult1</th>\n",
       "    </tr>\n",
       "  </thead>\n",
       "  <tbody>\n",
       "    <tr>\n",
       "      <th>0</th>\n",
       "      <td>2015-01-28</td>\n",
       "      <td>1375586</td>\n",
       "      <td>0</td>\n",
       "      <td>0</td>\n",
       "      <td>1</td>\n",
       "      <td>0</td>\n",
       "      <td>0</td>\n",
       "      <td>0</td>\n",
       "      <td>0</td>\n",
       "      <td>0</td>\n",
       "      <td>...</td>\n",
       "      <td>0</td>\n",
       "      <td>0</td>\n",
       "      <td>0</td>\n",
       "      <td>0</td>\n",
       "      <td>0</td>\n",
       "      <td>0</td>\n",
       "      <td>0</td>\n",
       "      <td>0</td>\n",
       "      <td>0</td>\n",
       "      <td>0</td>\n",
       "    </tr>\n",
       "    <tr>\n",
       "      <th>1</th>\n",
       "      <td>2015-01-28</td>\n",
       "      <td>1050611</td>\n",
       "      <td>0</td>\n",
       "      <td>0</td>\n",
       "      <td>1</td>\n",
       "      <td>0</td>\n",
       "      <td>0</td>\n",
       "      <td>0</td>\n",
       "      <td>0</td>\n",
       "      <td>0</td>\n",
       "      <td>...</td>\n",
       "      <td>0</td>\n",
       "      <td>0</td>\n",
       "      <td>0</td>\n",
       "      <td>0</td>\n",
       "      <td>0</td>\n",
       "      <td>0</td>\n",
       "      <td>0</td>\n",
       "      <td>0</td>\n",
       "      <td>0</td>\n",
       "      <td>0</td>\n",
       "    </tr>\n",
       "    <tr>\n",
       "      <th>2</th>\n",
       "      <td>2015-01-28</td>\n",
       "      <td>1050612</td>\n",
       "      <td>0</td>\n",
       "      <td>0</td>\n",
       "      <td>1</td>\n",
       "      <td>0</td>\n",
       "      <td>0</td>\n",
       "      <td>0</td>\n",
       "      <td>0</td>\n",
       "      <td>0</td>\n",
       "      <td>...</td>\n",
       "      <td>0</td>\n",
       "      <td>0</td>\n",
       "      <td>0</td>\n",
       "      <td>0</td>\n",
       "      <td>0</td>\n",
       "      <td>0</td>\n",
       "      <td>0</td>\n",
       "      <td>0</td>\n",
       "      <td>0</td>\n",
       "      <td>0</td>\n",
       "    </tr>\n",
       "    <tr>\n",
       "      <th>3</th>\n",
       "      <td>2015-01-28</td>\n",
       "      <td>1050613</td>\n",
       "      <td>0</td>\n",
       "      <td>0</td>\n",
       "      <td>0</td>\n",
       "      <td>0</td>\n",
       "      <td>0</td>\n",
       "      <td>0</td>\n",
       "      <td>0</td>\n",
       "      <td>0</td>\n",
       "      <td>...</td>\n",
       "      <td>0</td>\n",
       "      <td>0</td>\n",
       "      <td>0</td>\n",
       "      <td>0</td>\n",
       "      <td>0</td>\n",
       "      <td>0</td>\n",
       "      <td>0</td>\n",
       "      <td>0</td>\n",
       "      <td>0</td>\n",
       "      <td>0</td>\n",
       "    </tr>\n",
       "    <tr>\n",
       "      <th>4</th>\n",
       "      <td>2015-01-28</td>\n",
       "      <td>1050614</td>\n",
       "      <td>0</td>\n",
       "      <td>0</td>\n",
       "      <td>1</td>\n",
       "      <td>0</td>\n",
       "      <td>0</td>\n",
       "      <td>0</td>\n",
       "      <td>0</td>\n",
       "      <td>0</td>\n",
       "      <td>...</td>\n",
       "      <td>0</td>\n",
       "      <td>0</td>\n",
       "      <td>0</td>\n",
       "      <td>0</td>\n",
       "      <td>0</td>\n",
       "      <td>0</td>\n",
       "      <td>0</td>\n",
       "      <td>0</td>\n",
       "      <td>0</td>\n",
       "      <td>0</td>\n",
       "    </tr>\n",
       "  </tbody>\n",
       "</table>\n",
       "<p>5 rows × 26 columns</p>\n",
       "</div>"
      ],
      "text/plain": [
       "   fecha_dato  ncodpers  ind_ahor_fin_ult1  ind_aval_fin_ult1   \n",
       "0  2015-01-28   1375586                  0                  0  \\\n",
       "1  2015-01-28   1050611                  0                  0   \n",
       "2  2015-01-28   1050612                  0                  0   \n",
       "3  2015-01-28   1050613                  0                  0   \n",
       "4  2015-01-28   1050614                  0                  0   \n",
       "\n",
       "   ind_cco_fin_ult1  ind_cder_fin_ult1  ind_cno_fin_ult1  ind_ctju_fin_ult1   \n",
       "0                 1                  0                 0                  0  \\\n",
       "1                 1                  0                 0                  0   \n",
       "2                 1                  0                 0                  0   \n",
       "3                 0                  0                 0                  0   \n",
       "4                 1                  0                 0                  0   \n",
       "\n",
       "   ind_ctma_fin_ult1  ind_ctop_fin_ult1  ...  ind_hip_fin_ult1   \n",
       "0                  0                  0  ...                 0  \\\n",
       "1                  0                  0  ...                 0   \n",
       "2                  0                  0  ...                 0   \n",
       "3                  0                  0  ...                 0   \n",
       "4                  0                  0  ...                 0   \n",
       "\n",
       "   ind_plan_fin_ult1  ind_pres_fin_ult1  ind_reca_fin_ult1  ind_tjcr_fin_ult1   \n",
       "0                  0                  0                  0                  0  \\\n",
       "1                  0                  0                  0                  0   \n",
       "2                  0                  0                  0                  0   \n",
       "3                  0                  0                  0                  0   \n",
       "4                  0                  0                  0                  0   \n",
       "\n",
       "   ind_valo_fin_ult1  ind_viv_fin_ult1  ind_nomina_ult1  ind_nom_pens_ult1   \n",
       "0                  0                 0                0                  0  \\\n",
       "1                  0                 0                0                  0   \n",
       "2                  0                 0                0                  0   \n",
       "3                  0                 0                0                  0   \n",
       "4                  0                 0                0                  0   \n",
       "\n",
       "   ind_recibo_ult1  \n",
       "0                0  \n",
       "1                0  \n",
       "2                0  \n",
       "3                0  \n",
       "4                0  \n",
       "\n",
       "[5 rows x 26 columns]"
      ]
     },
     "execution_count": 11,
     "metadata": {},
     "output_type": "execute_result"
    }
   ],
   "source": [
    "df_train.head(5)"
   ]
  },
  {
   "cell_type": "code",
   "execution_count": 12,
   "id": "7598fe53",
   "metadata": {},
   "outputs": [],
   "source": [
    "df_train1505 = df_train[df_train.fecha_dato == '2015-05-28']\n",
    "df_train1505 = df_train1505.drop(['fecha_dato'], axis=1, inplace=False)\n",
    "df_train1505 = df_train1505.fillna(0)"
   ]
  },
  {
   "cell_type": "markdown",
   "id": "37ebef2a",
   "metadata": {},
   "source": [
    "#### Popularity Recommendation System"
   ]
  },
  {
   "cell_type": "code",
   "execution_count": 13,
   "id": "6a87ad0b",
   "metadata": {},
   "outputs": [],
   "source": [
    "def popularity_based(df):\n",
    "    '''This function would calcualte the popularity of a product occuring within the range of 0 to 0.99'''\n",
    "    \n",
    "    top_col = {}\n",
    "    \n",
    "    for col in df.columns[1:]:\n",
    "        top_col[col] = df[col].value_counts()[1]\n",
    "    \n",
    "    for k,v in top_col.items():\n",
    "        top_col[k] = np.around( v / df.shape[0], decimals=4)\n",
    "        \n",
    "    return top_col"
   ]
  },
  {
   "cell_type": "code",
   "execution_count": 14,
   "id": "771dd7a4",
   "metadata": {},
   "outputs": [
    {
     "data": {
      "text/plain": [
       "{'ind_ahor_fin_ult1': 0.0001,\n",
       " 'ind_aval_fin_ult1': 0.0,\n",
       " 'ind_cco_fin_ult1': 0.775,\n",
       " 'ind_cder_fin_ult1': 0.0005,\n",
       " 'ind_cno_fin_ult1': 0.1003,\n",
       " 'ind_ctju_fin_ult1': 0.0121,\n",
       " 'ind_ctma_fin_ult1': 0.0112,\n",
       " 'ind_ctop_fin_ult1': 0.1661,\n",
       " 'ind_ctpp_fin_ult1': 0.0562,\n",
       " 'ind_deco_fin_ult1': 0.0033,\n",
       " 'ind_deme_fin_ult1': 0.0023,\n",
       " 'ind_dela_fin_ult1': 0.0556,\n",
       " 'ind_ecue_fin_ult1': 0.1006,\n",
       " 'ind_fond_fin_ult1': 0.0239,\n",
       " 'ind_hip_fin_ult1': 0.0076,\n",
       " 'ind_plan_fin_ult1': 0.0117,\n",
       " 'ind_pres_fin_ult1': 0.0037,\n",
       " 'ind_reca_fin_ult1': 0.0632,\n",
       " 'ind_tjcr_fin_ult1': 0.0568,\n",
       " 'ind_valo_fin_ult1': 0.0316,\n",
       " 'ind_viv_fin_ult1': 0.005,\n",
       " 'ind_nomina_ult1': 0.0655,\n",
       " 'ind_nom_pens_ult1': 0.0672,\n",
       " 'ind_recibo_ult1': 0.1527}"
      ]
     },
     "execution_count": 14,
     "metadata": {},
     "output_type": "execute_result"
    }
   ],
   "source": [
    "popularity_based(df_train1505)\n",
    "\n",
    "\n",
    "    "
   ]
  },
  {
   "cell_type": "markdown",
   "id": "8803e9a4",
   "metadata": {},
   "source": [
    "#### Memory Based - Collaborative Filtering"
   ]
  },
  {
   "cell_type": "code",
   "execution_count": 15,
   "id": "42cef135",
   "metadata": {},
   "outputs": [
    {
     "data": {
      "text/plain": [
       "(10000, 24)"
      ]
     },
     "execution_count": 15,
     "metadata": {},
     "output_type": "execute_result"
    }
   ],
   "source": [
    "df_ui = df_train1505.copy()\n",
    "\n",
    "df_ui = df_ui[:10000] #limit to 10k instances/users\n",
    "df_ui = df_ui.set_index('ncodpers')\n",
    "df_ui.shape #check 10000 limit"
   ]
  },
  {
   "cell_type": "code",
   "execution_count": 18,
   "id": "0c7ce6cc",
   "metadata": {},
   "outputs": [],
   "source": [
    "from sklearn.metrics.pairwise import pairwise_distances\n",
    "\n",
    "# calculate the similarity between user-item\n",
    "cosine_sim = 1 - pairwise_distances(df_ui, metric='cosine')"
   ]
  },
  {
   "cell_type": "code",
   "execution_count": 24,
   "id": "e94e44ae",
   "metadata": {},
   "outputs": [],
   "source": [
    "def useritem(user_id, df, sim_matrix= cosine_sim):\n",
    "    \"\"\"\n",
    "    This function is takes in 3 argurments, user id, dataframe or user-item\n",
    "    and cosine similarity, to calculate the most similar users and return the probability for a giver user \n",
    "    based on similar users\n",
    "    \"\"\"\n",
    "    cos_id = list(df.index).index(user_id)\n",
    "    \n",
    "    k = 0\n",
    "    sim_min = 0.79\n",
    "    user_sim_k = {}\n",
    "    \n",
    "    while k < 20:\n",
    "        # loop over users in the df to create a dictionary of similar users\n",
    "        for user in range(len(df)):\n",
    "            #check if the present user and user in df have a similarity score between sim_min and 0.99, 0.99 is threshold because if not it would be score between the user and himself\n",
    "            if sim_min < cosine_sim[cos_id, user] < 0.99:\n",
    "                user_sim_k[user] = cosine_sim[cos_id,user]\n",
    "                k+=1\n",
    "                \n",
    "        sim_min -= 0.25 #i\n",
    "            \n",
    "        if sim_min < 0.65:\n",
    "            break\n",
    "    #sorted K most similar users\n",
    "    user_sim_k = dict(sorted(user_sim_k.items(), key=lambda item:item[1], reverse=True))\n",
    "    user_id_k = list(user_sim_k.keys())\n",
    "    \n",
    "    #Dataframe with most similar users\n",
    "    df_user_k = df.iloc[user_id_k]\n",
    "    df_user_k_T = df_user_k.T\n",
    "    \n",
    "    #change the user index to the cosine index\n",
    "    df_user_k_T.columns = user_id_k\n",
    "    \n",
    "    #mean of ownership by k similar users\n",
    "    \n",
    "    ownership = []\n",
    "    usit = {}\n",
    "    \n",
    "    for row_name, row in df_user_k_T.iterrows():\n",
    "        for index, own in row.items():\n",
    "            \n",
    "            ownership.append(own)\n",
    "        usit[row_name] = np.mean(ownership)\n",
    "        ownership = []\n",
    "        \n",
    "    # if there are no users with similarity at least 0.65, the recommendation probability is 0\n",
    "    \n",
    "    if pd.isna(list(usit.values())[0]) == True:\n",
    "        \n",
    "        usit = {key : 0 for (key, value) in usit.items()}\n",
    "    return usit\n",
    "        \n",
    "    \n",
    "    "
   ]
  },
  {
   "cell_type": "code",
   "execution_count": 26,
   "id": "568b85f8",
   "metadata": {},
   "outputs": [
    {
     "data": {
      "text/plain": [
       "{'ind_ahor_fin_ult1': 0.0,\n",
       " 'ind_aval_fin_ult1': 0.0,\n",
       " 'ind_cco_fin_ult1': 1.0,\n",
       " 'ind_cder_fin_ult1': 0.0,\n",
       " 'ind_cno_fin_ult1': 0.0,\n",
       " 'ind_ctju_fin_ult1': 0.0,\n",
       " 'ind_ctma_fin_ult1': 0.0,\n",
       " 'ind_ctop_fin_ult1': 0.0,\n",
       " 'ind_ctpp_fin_ult1': 0.0,\n",
       " 'ind_deco_fin_ult1': 0.0,\n",
       " 'ind_deme_fin_ult1': 0.0,\n",
       " 'ind_dela_fin_ult1': 0.009433962264150943,\n",
       " 'ind_ecue_fin_ult1': 0.8490566037735849,\n",
       " 'ind_fond_fin_ult1': 0.0,\n",
       " 'ind_hip_fin_ult1': 0.0,\n",
       " 'ind_plan_fin_ult1': 0.009433962264150943,\n",
       " 'ind_pres_fin_ult1': 0.0,\n",
       " 'ind_reca_fin_ult1': 0.22641509433962265,\n",
       " 'ind_tjcr_fin_ult1': 0.018867924528301886,\n",
       " 'ind_valo_fin_ult1': 0.0,\n",
       " 'ind_viv_fin_ult1': 0.0,\n",
       " 'ind_nomina_ult1': 0.0,\n",
       " 'ind_nom_pens_ult1': 0.0,\n",
       " 'ind_recibo_ult1': 0.9622641509433962}"
      ]
     },
     "execution_count": 26,
     "metadata": {},
     "output_type": "execute_result"
    }
   ],
   "source": [
    "useritem(1061604, df_ui)"
   ]
  },
  {
   "cell_type": "markdown",
   "id": "e3a89c63",
   "metadata": {},
   "source": [
    "### Model Based Collaborative filtering "
   ]
  },
  {
   "cell_type": "code",
   "execution_count": null,
   "id": "8b03ba01",
   "metadata": {},
   "outputs": [],
   "source": [
    "This model based collaborative filtering is base on machine learning models "
   ]
  }
 ],
 "metadata": {
  "kernelspec": {
   "display_name": "Python 3 (ipykernel)",
   "language": "python",
   "name": "python3"
  },
  "language_info": {
   "codemirror_mode": {
    "name": "ipython",
    "version": 3
   },
   "file_extension": ".py",
   "mimetype": "text/x-python",
   "name": "python",
   "nbconvert_exporter": "python",
   "pygments_lexer": "ipython3",
   "version": "3.10.10"
  }
 },
 "nbformat": 4,
 "nbformat_minor": 5
}
